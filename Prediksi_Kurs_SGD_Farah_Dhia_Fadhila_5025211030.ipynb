{
  "cells": [
    {
      "cell_type": "markdown",
      "source": [
        "# Import Packages\n"
      ],
      "metadata": {
        "id": "-HIh0nD4Kpo3"
      }
    },
    {
      "cell_type": "code",
      "execution_count": null,
      "metadata": {
        "id": "QX4tZAI2uYoU"
      },
      "outputs": [],
      "source": [
        "import pandas as pd\n",
        "from sklearn.preprocessing import MinMaxScaler\n",
        "from pandas import concat\n",
        "import numpy as np\n",
        "from keras.layers import Dense, Activation, Dropout\n",
        "from keras.layers import LSTM\n",
        "from keras.layers import SimpleRNN\n",
        "from keras.models import Sequential\n",
        "import matplotlib.pyplot as plt\n",
        "import pandas as pd\n",
        "from sklearn.metrics import mean_squared_error\n",
        "from math import sqrt"
      ]
    },
    {
      "cell_type": "markdown",
      "source": [
        "# Load Data dan Preprocessing"
      ],
      "metadata": {
        "id": "Aznbp6jAK4uJ"
      }
    },
    {
      "cell_type": "code",
      "execution_count": null,
      "metadata": {
        "colab": {
          "base_uri": "https://localhost:8080/",
          "height": 90
        },
        "id": "4oRwmhEwulBi",
        "outputId": "630fd2e3-95ee-4361-d785-6ffa7f1a0df0"
      },
      "outputs": [
        {
          "output_type": "display_data",
          "data": {
            "text/plain": [
              "<IPython.core.display.HTML object>"
            ],
            "text/html": [
              "\n",
              "     <input type=\"file\" id=\"files-48bcf1fe-64a9-4c9c-b554-def16abace79\" name=\"files[]\" multiple disabled\n",
              "        style=\"border:none\" />\n",
              "     <output id=\"result-48bcf1fe-64a9-4c9c-b554-def16abace79\">\n",
              "      Upload widget is only available when the cell has been executed in the\n",
              "      current browser session. Please rerun this cell to enable.\n",
              "      </output>\n",
              "      <script>// Copyright 2017 Google LLC\n",
              "//\n",
              "// Licensed under the Apache License, Version 2.0 (the \"License\");\n",
              "// you may not use this file except in compliance with the License.\n",
              "// You may obtain a copy of the License at\n",
              "//\n",
              "//      http://www.apache.org/licenses/LICENSE-2.0\n",
              "//\n",
              "// Unless required by applicable law or agreed to in writing, software\n",
              "// distributed under the License is distributed on an \"AS IS\" BASIS,\n",
              "// WITHOUT WARRANTIES OR CONDITIONS OF ANY KIND, either express or implied.\n",
              "// See the License for the specific language governing permissions and\n",
              "// limitations under the License.\n",
              "\n",
              "/**\n",
              " * @fileoverview Helpers for google.colab Python module.\n",
              " */\n",
              "(function(scope) {\n",
              "function span(text, styleAttributes = {}) {\n",
              "  const element = document.createElement('span');\n",
              "  element.textContent = text;\n",
              "  for (const key of Object.keys(styleAttributes)) {\n",
              "    element.style[key] = styleAttributes[key];\n",
              "  }\n",
              "  return element;\n",
              "}\n",
              "\n",
              "// Max number of bytes which will be uploaded at a time.\n",
              "const MAX_PAYLOAD_SIZE = 100 * 1024;\n",
              "\n",
              "function _uploadFiles(inputId, outputId) {\n",
              "  const steps = uploadFilesStep(inputId, outputId);\n",
              "  const outputElement = document.getElementById(outputId);\n",
              "  // Cache steps on the outputElement to make it available for the next call\n",
              "  // to uploadFilesContinue from Python.\n",
              "  outputElement.steps = steps;\n",
              "\n",
              "  return _uploadFilesContinue(outputId);\n",
              "}\n",
              "\n",
              "// This is roughly an async generator (not supported in the browser yet),\n",
              "// where there are multiple asynchronous steps and the Python side is going\n",
              "// to poll for completion of each step.\n",
              "// This uses a Promise to block the python side on completion of each step,\n",
              "// then passes the result of the previous step as the input to the next step.\n",
              "function _uploadFilesContinue(outputId) {\n",
              "  const outputElement = document.getElementById(outputId);\n",
              "  const steps = outputElement.steps;\n",
              "\n",
              "  const next = steps.next(outputElement.lastPromiseValue);\n",
              "  return Promise.resolve(next.value.promise).then((value) => {\n",
              "    // Cache the last promise value to make it available to the next\n",
              "    // step of the generator.\n",
              "    outputElement.lastPromiseValue = value;\n",
              "    return next.value.response;\n",
              "  });\n",
              "}\n",
              "\n",
              "/**\n",
              " * Generator function which is called between each async step of the upload\n",
              " * process.\n",
              " * @param {string} inputId Element ID of the input file picker element.\n",
              " * @param {string} outputId Element ID of the output display.\n",
              " * @return {!Iterable<!Object>} Iterable of next steps.\n",
              " */\n",
              "function* uploadFilesStep(inputId, outputId) {\n",
              "  const inputElement = document.getElementById(inputId);\n",
              "  inputElement.disabled = false;\n",
              "\n",
              "  const outputElement = document.getElementById(outputId);\n",
              "  outputElement.innerHTML = '';\n",
              "\n",
              "  const pickedPromise = new Promise((resolve) => {\n",
              "    inputElement.addEventListener('change', (e) => {\n",
              "      resolve(e.target.files);\n",
              "    });\n",
              "  });\n",
              "\n",
              "  const cancel = document.createElement('button');\n",
              "  inputElement.parentElement.appendChild(cancel);\n",
              "  cancel.textContent = 'Cancel upload';\n",
              "  const cancelPromise = new Promise((resolve) => {\n",
              "    cancel.onclick = () => {\n",
              "      resolve(null);\n",
              "    };\n",
              "  });\n",
              "\n",
              "  // Wait for the user to pick the files.\n",
              "  const files = yield {\n",
              "    promise: Promise.race([pickedPromise, cancelPromise]),\n",
              "    response: {\n",
              "      action: 'starting',\n",
              "    }\n",
              "  };\n",
              "\n",
              "  cancel.remove();\n",
              "\n",
              "  // Disable the input element since further picks are not allowed.\n",
              "  inputElement.disabled = true;\n",
              "\n",
              "  if (!files) {\n",
              "    return {\n",
              "      response: {\n",
              "        action: 'complete',\n",
              "      }\n",
              "    };\n",
              "  }\n",
              "\n",
              "  for (const file of files) {\n",
              "    const li = document.createElement('li');\n",
              "    li.append(span(file.name, {fontWeight: 'bold'}));\n",
              "    li.append(span(\n",
              "        `(${file.type || 'n/a'}) - ${file.size} bytes, ` +\n",
              "        `last modified: ${\n",
              "            file.lastModifiedDate ? file.lastModifiedDate.toLocaleDateString() :\n",
              "                                    'n/a'} - `));\n",
              "    const percent = span('0% done');\n",
              "    li.appendChild(percent);\n",
              "\n",
              "    outputElement.appendChild(li);\n",
              "\n",
              "    const fileDataPromise = new Promise((resolve) => {\n",
              "      const reader = new FileReader();\n",
              "      reader.onload = (e) => {\n",
              "        resolve(e.target.result);\n",
              "      };\n",
              "      reader.readAsArrayBuffer(file);\n",
              "    });\n",
              "    // Wait for the data to be ready.\n",
              "    let fileData = yield {\n",
              "      promise: fileDataPromise,\n",
              "      response: {\n",
              "        action: 'continue',\n",
              "      }\n",
              "    };\n",
              "\n",
              "    // Use a chunked sending to avoid message size limits. See b/62115660.\n",
              "    let position = 0;\n",
              "    do {\n",
              "      const length = Math.min(fileData.byteLength - position, MAX_PAYLOAD_SIZE);\n",
              "      const chunk = new Uint8Array(fileData, position, length);\n",
              "      position += length;\n",
              "\n",
              "      const base64 = btoa(String.fromCharCode.apply(null, chunk));\n",
              "      yield {\n",
              "        response: {\n",
              "          action: 'append',\n",
              "          file: file.name,\n",
              "          data: base64,\n",
              "        },\n",
              "      };\n",
              "\n",
              "      let percentDone = fileData.byteLength === 0 ?\n",
              "          100 :\n",
              "          Math.round((position / fileData.byteLength) * 100);\n",
              "      percent.textContent = `${percentDone}% done`;\n",
              "\n",
              "    } while (position < fileData.byteLength);\n",
              "  }\n",
              "\n",
              "  // All done.\n",
              "  yield {\n",
              "    response: {\n",
              "      action: 'complete',\n",
              "    }\n",
              "  };\n",
              "}\n",
              "\n",
              "scope.google = scope.google || {};\n",
              "scope.google.colab = scope.google.colab || {};\n",
              "scope.google.colab._files = {\n",
              "  _uploadFiles,\n",
              "  _uploadFilesContinue,\n",
              "};\n",
              "})(self);\n",
              "</script> "
            ]
          },
          "metadata": {}
        },
        {
          "output_type": "stream",
          "name": "stdout",
          "text": [
            "Saving 20240314120826.xlsx to 20240314120826 (2).xlsx\n"
          ]
        }
      ],
      "source": [
        "# @title Load file\n",
        "from google.colab import files\n",
        "uploaded = files.upload()"
      ]
    },
    {
      "cell_type": "code",
      "source": [
        "# @title Preprocessing\n",
        "def load_data(file):\n",
        "  df = pd.read_excel(file,\n",
        "                     usecols=[\"Tahun\", \"SGD\"])\n",
        "  df['Tanggal'] = 0\n",
        "  tempTahun = 0\n",
        "  month_to_number = {\"Januari\": \"1\", \"Februari\": \"2\", \"Maret\": \"3\", \"April\": \"4\", \"Mei\": \"5\", \"Juni\": \"6\",\n",
        "                     \"Juli\": \"7\", \"Agustus\": \"8\", \"September\": \"9\",  \"Oktober\": \"10\", \"November\": \"11\", \"Desember\": \"12\"}\n",
        "  for i in range(len(df)):\n",
        "    if isinstance(df.loc[i, 'Tahun'], int):\n",
        "      tempTahun = df.loc[i, 'Tahun']\n",
        "    else:\n",
        "      df.loc[i, 'Tanggal'] = str(tempTahun) + '-' + month_to_number[df.loc[i, 'Tahun']] + '-01'\n",
        "\n",
        "  df['SGD'] = df['SGD'].str.replace(',', '').astype(float)\n",
        "  df = df.set_index('Tanggal')\n",
        "  df.index = pd.to_datetime(df.index)\n",
        "\n",
        "  df = df.drop(columns=['Tahun'])\n",
        "  df = df.drop(index=df.index[0])\n",
        "  return df\n",
        "\n",
        "df = load_data('20240314120826.xlsx')\n",
        "print(df)"
      ],
      "metadata": {
        "colab": {
          "base_uri": "https://localhost:8080/"
        },
        "id": "k1btpDcjOSjZ",
        "outputId": "5570c32b-f84d-4ef3-c9bd-82c14c595491"
      },
      "execution_count": null,
      "outputs": [
        {
          "output_type": "stream",
          "name": "stdout",
          "text": [
            "                 SGD\n",
            "Tanggal             \n",
            "2024-01-01  11796.00\n",
            "2023-12-01  11711.64\n",
            "2023-11-01  11554.33\n",
            "2023-10-01  11635.79\n",
            "2023-09-01  11334.00\n",
            "...              ...\n",
            "2001-05-01   6114.47\n",
            "2001-04-01   6421.90\n",
            "2001-03-01   5778.91\n",
            "2001-02-01   5646.79\n",
            "2001-01-01   5416.10\n",
            "\n",
            "[277 rows x 1 columns]\n"
          ]
        }
      ]
    },
    {
      "cell_type": "code",
      "source": [
        "# @title Cek index apakah sudah benar\n",
        "df.index"
      ],
      "metadata": {
        "colab": {
          "base_uri": "https://localhost:8080/"
        },
        "id": "F1xnKzNK5n8R",
        "outputId": "595d8e98-8895-4908-df77-d4954be1ca12"
      },
      "execution_count": null,
      "outputs": [
        {
          "output_type": "execute_result",
          "data": {
            "text/plain": [
              "DatetimeIndex(['2024-01-01', '2023-12-01', '2023-11-01', '2023-10-01',\n",
              "               '2023-09-01', '2023-08-01', '2023-07-01', '2023-06-01',\n",
              "               '2023-05-01', '2023-04-01',\n",
              "               ...\n",
              "               '2001-10-01', '2001-09-01', '2001-08-01', '2001-07-01',\n",
              "               '2001-06-01', '2001-05-01', '2001-04-01', '2001-03-01',\n",
              "               '2001-02-01', '2001-01-01'],\n",
              "              dtype='datetime64[ns]', name='Tanggal', length=277, freq=None)"
            ]
          },
          "metadata": {},
          "execution_count": 26
        }
      ]
    },
    {
      "cell_type": "markdown",
      "source": [
        "# Normalisasi Data"
      ],
      "metadata": {
        "id": "7ULzhhIuLHeD"
      }
    },
    {
      "cell_type": "code",
      "source": [
        "# @title Konversi time series ke dalam bentuk sequence\n",
        "def series_to_supervised(data, n_in=1, n_out=1, dropnan=True):\n",
        "  n_vars = 1 if type(data) is list else data.shape[1]\n",
        "  df = pd.DataFrame(data)\n",
        "  cols, names = list(), list()\n",
        "\n",
        "## input sequence (t-n, ... t-1)\n",
        "  for i in range(n_in, 0, -1):\n",
        "    cols.append(df.shift(i))\n",
        "    names += [('var%d(t-%d)' % (j + 1, i)) for j in range(n_vars)]\n",
        "\n",
        "## forecast sequence (t, t+1, ... t+n)\n",
        "  for i in range(0, n_out):\n",
        "    cols.append(df.shift(-i))\n",
        "    if i == 0:\n",
        "      names += [('var%d(t)' % (j + 1)) for j in range(n_vars)]\n",
        "    else:\n",
        "      names += [('var%d(t+%d)' % (j + 1, i)) for j in range(n_vars)]\n",
        "\n",
        "## put it all together\n",
        "  agg = concat(cols, axis=1)\n",
        "  agg.columns = names\n",
        "\n",
        "## drop rows with NaN values\n",
        "  if dropnan:\n",
        "    agg.dropna(inplace=True)\n",
        "  return agg"
      ],
      "metadata": {
        "id": "QVFJJuKUaY4V"
      },
      "execution_count": null,
      "outputs": []
    },
    {
      "cell_type": "code",
      "source": [
        "# @title Normalisasi data dalam range 0-1\n",
        "def normalize_data(data):\n",
        " scaler = MinMaxScaler(feature_range=(0, 1))\n",
        " data_scaled = scaler.fit_transform(data)\n",
        " return scaler, data_scaled"
      ],
      "metadata": {
        "id": "DVtdAVO0atSM"
      },
      "execution_count": null,
      "outputs": []
    },
    {
      "cell_type": "code",
      "source": [
        "# @title Inverse data ke range semula\n",
        "def inverse_normdata(scaler, dataX, yhat):\n",
        " dataX = dataX.reshape((dataX.shape[0], dataX.shape[2]))\n",
        " inv_y = np.concatenate((dataX, yhat), axis=1)\n",
        " inv_y = scaler.inverse_transform(inv_y)\n",
        " inv_y = inv_y[:, -1]\n",
        " return inv_y"
      ],
      "metadata": {
        "id": "IMZWpo6nau2Y"
      },
      "execution_count": null,
      "outputs": []
    },
    {
      "cell_type": "markdown",
      "source": [
        "# Build Model"
      ],
      "metadata": {
        "id": "-hTUADEXLvQa"
      }
    },
    {
      "cell_type": "code",
      "source": [
        "# @title Build model RNN\n",
        "def build_model_rnn(train_X):\n",
        "  model_rnn = Sequential()\n",
        "  model_rnn.add(SimpleRNN(100,\n",
        "  input_shape=(train_X.shape[2], train_X.shape[1]),\n",
        "  return_sequences=True))\n",
        "  model_rnn.add(Dropout(0.3))\n",
        "  model_rnn.add(SimpleRNN(128,\n",
        "  return_sequences=True))\n",
        "  model_rnn.add(Dropout(0.2))\n",
        "  model_rnn.add(SimpleRNN(64,\n",
        "  return_sequences=False))\n",
        "  model_rnn.add(Dropout(0.2))\n",
        "  model_rnn.add(Dense(1))\n",
        "  model_rnn.add(Activation(\"relu\"))\n",
        "  model_rnn.compile(loss=\"mse\", optimizer=\"adam\")\n",
        "  return model_rnn"
      ],
      "metadata": {
        "id": "jXNaz_NJc2Yv"
      },
      "execution_count": null,
      "outputs": []
    },
    {
      "cell_type": "code",
      "source": [
        "# @title Build model LSTM\n",
        "def build_model_lstm(train_X):\n",
        "  model_lstm = Sequential()\n",
        "  model_lstm.add(LSTM(100,\n",
        "  input_shape=(train_X.shape[2], train_X.shape[1]),\n",
        "  return_sequences=True))\n",
        "  model_lstm.add(Dropout(0.3))\n",
        "  model_lstm.add(LSTM(128,\n",
        "  return_sequences=True))\n",
        "  model_lstm.add(Dropout(0.2))\n",
        "  model_lstm.add(LSTM(64,\n",
        "  return_sequences=False))\n",
        "  model_lstm.add(Dropout(0.2))\n",
        "  model_lstm.add(Dense(1))\n",
        "  model_lstm.add(Activation(\"relu\"))\n",
        "  model_lstm.compile(loss=\"mse\", optimizer=\"adam\")\n",
        "  return model_lstm"
      ],
      "metadata": {
        "id": "y_h6_a4NdDSU"
      },
      "execution_count": null,
      "outputs": []
    },
    {
      "cell_type": "markdown",
      "source": [
        "# Main"
      ],
      "metadata": {
        "id": "zUDdOLFH3VEa"
      }
    },
    {
      "cell_type": "code",
      "source": [
        "if __name__=='__main__':\n",
        " df = load_data(\"20240314120826.xlsx\")\n",
        "\n",
        " # reframe data menjadi supervised\n",
        " data_reframed = series_to_supervised(df, 1, 1)\n",
        " df_data_reframed = pd.DataFrame(data_reframed)\n",
        "\n",
        " # scale data menjadi range 0-1\n",
        " scaler, data_scaled = normalize_data(data_reframed.values)\n",
        " df_data_scaled = pd.DataFrame(data_scaled, index=df_data_reframed.index,\n",
        "columns=df_data_reframed.columns)\n",
        "\n",
        " # drop index dengan tahun 2024 karena tidak dipakai untuk training maupun testing\n",
        " df_data_scaled = df_data_scaled.drop(df_data_scaled[df_data_scaled.index.year == 2024].index)"
      ],
      "metadata": {
        "id": "KiCwqBgY3XXi"
      },
      "execution_count": null,
      "outputs": []
    },
    {
      "cell_type": "markdown",
      "source": [
        "splitting dataset\n",
        "\n",
        "> testing = 12 data teratas (Januari - Desember 2023)\n",
        "\n",
        "\n",
        "> training = sisanya\n",
        "\n",
        "\n"
      ],
      "metadata": {
        "id": "WNz_77l7BuZ9"
      }
    },
    {
      "cell_type": "code",
      "source": [
        " # @title Splitting dataset\n",
        " test = df_data_scaled.iloc[:12]\n",
        " train = df_data_scaled.iloc[12:]\n",
        "\n",
        " print(test)\n",
        " print(train)"
      ],
      "metadata": {
        "colab": {
          "base_uri": "https://localhost:8080/"
        },
        "id": "s2G4fvKoBttF",
        "outputId": "59fd56f8-2b1b-4773-8a31-b1a355bdab7f"
      },
      "execution_count": null,
      "outputs": [
        {
          "output_type": "stream",
          "name": "stdout",
          "text": [
            "            var1(t-1)   var1(t)\n",
            "Tanggal                        \n",
            "2023-12-01   1.000000  1.000000\n",
            "2023-11-01   0.988085  0.977513\n",
            "2023-10-01   0.965866  0.989158\n",
            "2023-09-01   0.977371  0.946018\n",
            "2023-08-01   0.934746  0.936155\n",
            "2023-07-01   0.925000  0.942158\n",
            "2023-06-01   0.930932  0.912854\n",
            "2023-05-01   0.901977  0.905850\n",
            "2023-04-01   0.895056  0.904849\n",
            "2023-03-01   0.894068  0.947161\n",
            "2023-02-01   0.935876  0.943302\n",
            "2023-01-01   0.932062  0.956453\n",
            "            var1(t-1)   var1(t)\n",
            "Tanggal                        \n",
            "2022-12-01   0.945056  0.992475\n",
            "2022-11-01   0.980650  0.963866\n",
            "2022-10-01   0.952381  0.899120\n",
            "2022-09-01   0.888407  0.835792\n",
            "2022-08-01   0.825833  0.849077\n",
            "...               ...       ...\n",
            "2001-05-01   0.221421  0.199906\n",
            "2001-04-01   0.197524  0.243852\n",
            "2001-03-01   0.240946  0.151939\n",
            "2001-02-01   0.150129  0.133053\n",
            "2001-01-01   0.131468  0.100077\n",
            "\n",
            "[264 rows x 2 columns]\n"
          ]
        }
      ]
    },
    {
      "cell_type": "code",
      "source": [
        "  # @title Cek ukuran dataset untuk training dan testing\n",
        "  train_X, train_y = train.iloc[:, :-1], train.iloc[:, -1]\n",
        "  test_X, test_y = test.iloc[:, :-1], test.iloc[:, -1]\n",
        "\n",
        "  train_X = train_X.values.reshape((train_X.shape[0], 1, train_X.shape[1]))\n",
        "  test_X = test_X.values.reshape((test_X.shape[0], 1, test_X.shape[1]))\n",
        "\n",
        "  print(train_X.shape)\n",
        "  train_y = pd.DataFrame(train_y)\n",
        "  test_y = pd.DataFrame(test_y)\n",
        "  print(\"train_X shape = %s, train_y shape = %s, test_X shape = %s, test_y shape = %s\" %\n",
        "  (train_X.shape, train_y.shape, test_X.shape, test_y.shape))"
      ],
      "metadata": {
        "colab": {
          "base_uri": "https://localhost:8080/"
        },
        "id": "ar5r6i_NDNoO",
        "outputId": "13ff953e-67d7-47a6-f3a6-68b0a319dc7b"
      },
      "execution_count": null,
      "outputs": [
        {
          "output_type": "stream",
          "name": "stdout",
          "text": [
            "(264, 1, 1)\n",
            "train_X shape = (264, 1, 1), train_y shape = (264, 1), test_X shape = (12, 1, 1), test_y shape = (12, 1)\n"
          ]
        }
      ]
    },
    {
      "cell_type": "markdown",
      "source": [
        "# Hasil"
      ],
      "metadata": {
        "id": "fitiQNdWDleu"
      }
    },
    {
      "cell_type": "code",
      "source": [
        "  # @title Hasil model RNN\n",
        "  model_rnn = build_model_rnn(train_X)\n",
        "  history = model_rnn.fit(train_X, train_y, epochs=100, batch_size=len(train_X), validation_data=(test_X, test_y),\n",
        "                      verbose=2, shuffle=False)\n",
        "  model_rnn.save(\"rnn_model.h5\")\n",
        "  # plot history\n",
        "  plt.plot(history.history['loss'], label='train')\n",
        "  plt.legend()\n",
        "  plt.show()\n",
        "  # plot model and train data\n",
        "  y_train = model_rnn.predict(train_X)\n",
        "  inv_ymodel = inverse_normdata(scaler, train_X, y_train)\n",
        "  df_inv_ymodel = pd.DataFrame(inv_ymodel, index=train_y.index)\n",
        "  # plot test data\n",
        "  y_test = model_rnn.predict(test_X)\n",
        "  inv_y_test = inverse_normdata(scaler, test_X, y_test)\n",
        "  df_inv_ytest = pd.DataFrame(inv_y_test, index=test_y.index)\n",
        "  plt.plot(df, color='orange', label='Actual')\n",
        "  plt.plot(df_inv_ymodel, color='green', label='Trained')\n",
        "  plt.plot(df_inv_ytest, color='red', label='Predicted')\n",
        "  plt.legend()\n",
        "  plt.show()\n",
        "  # inverse data dari 0-1 menjadi range awal\n",
        "  inv_test_y = inverse_normdata(scaler, test_X, test_y)\n",
        "  rmse_normal = sqrt(mean_squared_error(inv_test_y, inv_y_test))\n",
        "  print('Test RMSE normal : %.3f' % rmse_normal)\n",
        "  print('Test MSE normal : %.3f' % mean_squared_error(inv_test_y, inv_y_test))"
      ],
      "metadata": {
        "colab": {
          "base_uri": "https://localhost:8080/",
          "height": 1000
        },
        "id": "TZdBjJdWDQm-",
        "outputId": "30ae6a45-795c-4e6f-87df-45197d349a71"
      },
      "execution_count": null,
      "outputs": [
        {
          "output_type": "stream",
          "name": "stdout",
          "text": [
            "Epoch 1/100\n",
            "1/1 - 4s - loss: 0.2946 - val_loss: 0.8973 - 4s/epoch - 4s/step\n",
            "Epoch 2/100\n",
            "1/1 - 0s - loss: 0.2576 - val_loss: 0.5950 - 48ms/epoch - 48ms/step\n",
            "Epoch 3/100\n",
            "1/1 - 0s - loss: 0.1825 - val_loss: 0.2376 - 62ms/epoch - 62ms/step\n",
            "Epoch 4/100\n",
            "1/1 - 0s - loss: 0.0805 - val_loss: 0.0346 - 44ms/epoch - 44ms/step\n",
            "Epoch 5/100\n",
            "1/1 - 0s - loss: 0.0269 - val_loss: 0.0081 - 61ms/epoch - 61ms/step\n",
            "Epoch 6/100\n",
            "1/1 - 0s - loss: 0.0342 - val_loss: 0.0717 - 46ms/epoch - 46ms/step\n",
            "Epoch 7/100\n",
            "1/1 - 0s - loss: 0.0780 - val_loss: 0.1014 - 59ms/epoch - 59ms/step\n",
            "Epoch 8/100\n",
            "1/1 - 0s - loss: 0.0852 - val_loss: 0.0797 - 50ms/epoch - 50ms/step\n",
            "Epoch 9/100\n",
            "1/1 - 0s - loss: 0.0795 - val_loss: 0.0375 - 47ms/epoch - 47ms/step\n",
            "Epoch 10/100\n",
            "1/1 - 0s - loss: 0.0567 - val_loss: 0.0067 - 56ms/epoch - 56ms/step\n",
            "Epoch 11/100\n",
            "1/1 - 0s - loss: 0.0278 - val_loss: 0.0015 - 48ms/epoch - 48ms/step\n",
            "Epoch 12/100\n",
            "1/1 - 0s - loss: 0.0206 - val_loss: 0.0186 - 62ms/epoch - 62ms/step\n",
            "Epoch 13/100\n",
            "1/1 - 0s - loss: 0.0187 - val_loss: 0.0468 - 49ms/epoch - 49ms/step\n",
            "Epoch 14/100\n",
            "1/1 - 0s - loss: 0.0288 - val_loss: 0.0720 - 47ms/epoch - 47ms/step\n",
            "Epoch 15/100\n",
            "1/1 - 0s - loss: 0.0322 - val_loss: 0.0863 - 48ms/epoch - 48ms/step\n",
            "Epoch 16/100\n",
            "1/1 - 0s - loss: 0.0306 - val_loss: 0.0872 - 48ms/epoch - 48ms/step\n",
            "Epoch 17/100\n",
            "1/1 - 0s - loss: 0.0395 - val_loss: 0.0751 - 47ms/epoch - 47ms/step\n",
            "Epoch 18/100\n",
            "1/1 - 0s - loss: 0.0362 - val_loss: 0.0554 - 47ms/epoch - 47ms/step\n",
            "Epoch 19/100\n",
            "1/1 - 0s - loss: 0.0249 - val_loss: 0.0345 - 52ms/epoch - 52ms/step\n",
            "Epoch 20/100\n",
            "1/1 - 0s - loss: 0.0251 - val_loss: 0.0161 - 46ms/epoch - 46ms/step\n",
            "Epoch 21/100\n",
            "1/1 - 0s - loss: 0.0201 - val_loss: 0.0043 - 50ms/epoch - 50ms/step\n",
            "Epoch 22/100\n",
            "1/1 - 0s - loss: 0.0156 - val_loss: 3.8293e-04 - 46ms/epoch - 46ms/step\n",
            "Epoch 23/100\n",
            "1/1 - 0s - loss: 0.0120 - val_loss: 0.0028 - 46ms/epoch - 46ms/step\n",
            "Epoch 24/100\n",
            "1/1 - 0s - loss: 0.0121 - val_loss: 0.0081 - 63ms/epoch - 63ms/step\n",
            "Epoch 25/100\n",
            "1/1 - 0s - loss: 0.0186 - val_loss: 0.0127 - 58ms/epoch - 58ms/step\n",
            "Epoch 26/100\n",
            "1/1 - 0s - loss: 0.0184 - val_loss: 0.0139 - 58ms/epoch - 58ms/step\n",
            "Epoch 27/100\n",
            "1/1 - 0s - loss: 0.0182 - val_loss: 0.0115 - 47ms/epoch - 47ms/step\n",
            "Epoch 28/100\n",
            "1/1 - 0s - loss: 0.0185 - val_loss: 0.0071 - 51ms/epoch - 51ms/step\n",
            "Epoch 29/100\n",
            "1/1 - 0s - loss: 0.0150 - val_loss: 0.0032 - 47ms/epoch - 47ms/step\n",
            "Epoch 30/100\n",
            "1/1 - 0s - loss: 0.0153 - val_loss: 7.7449e-04 - 45ms/epoch - 45ms/step\n",
            "Epoch 31/100\n",
            "1/1 - 0s - loss: 0.0115 - val_loss: 5.7625e-04 - 46ms/epoch - 46ms/step\n",
            "Epoch 32/100\n",
            "1/1 - 0s - loss: 0.0105 - val_loss: 0.0022 - 44ms/epoch - 44ms/step\n",
            "Epoch 33/100\n",
            "1/1 - 0s - loss: 0.0110 - val_loss: 0.0048 - 48ms/epoch - 48ms/step\n",
            "Epoch 34/100\n",
            "1/1 - 0s - loss: 0.0136 - val_loss: 0.0073 - 44ms/epoch - 44ms/step\n",
            "Epoch 35/100\n",
            "1/1 - 0s - loss: 0.0136 - val_loss: 0.0088 - 45ms/epoch - 45ms/step\n",
            "Epoch 36/100\n",
            "1/1 - 0s - loss: 0.0162 - val_loss: 0.0089 - 46ms/epoch - 46ms/step\n",
            "Epoch 37/100\n",
            "1/1 - 0s - loss: 0.0169 - val_loss: 0.0077 - 56ms/epoch - 56ms/step\n",
            "Epoch 38/100\n",
            "1/1 - 0s - loss: 0.0119 - val_loss: 0.0059 - 48ms/epoch - 48ms/step\n",
            "Epoch 39/100\n",
            "1/1 - 0s - loss: 0.0125 - val_loss: 0.0038 - 49ms/epoch - 49ms/step\n",
            "Epoch 40/100\n",
            "1/1 - 0s - loss: 0.0096 - val_loss: 0.0020 - 48ms/epoch - 48ms/step\n",
            "Epoch 41/100\n",
            "1/1 - 0s - loss: 0.0113 - val_loss: 8.7867e-04 - 47ms/epoch - 47ms/step\n",
            "Epoch 42/100\n",
            "1/1 - 0s - loss: 0.0115 - val_loss: 4.1646e-04 - 46ms/epoch - 46ms/step\n",
            "Epoch 43/100\n",
            "1/1 - 0s - loss: 0.0101 - val_loss: 7.6469e-04 - 47ms/epoch - 47ms/step\n",
            "Epoch 44/100\n",
            "1/1 - 0s - loss: 0.0104 - val_loss: 0.0014 - 46ms/epoch - 46ms/step\n",
            "Epoch 45/100\n",
            "1/1 - 0s - loss: 0.0101 - val_loss: 0.0019 - 75ms/epoch - 75ms/step\n",
            "Epoch 46/100\n",
            "1/1 - 0s - loss: 0.0101 - val_loss: 0.0020 - 49ms/epoch - 49ms/step\n",
            "Epoch 47/100\n",
            "1/1 - 0s - loss: 0.0097 - val_loss: 0.0018 - 52ms/epoch - 52ms/step\n",
            "Epoch 48/100\n",
            "1/1 - 0s - loss: 0.0102 - val_loss: 0.0012 - 46ms/epoch - 46ms/step\n",
            "Epoch 49/100\n",
            "1/1 - 0s - loss: 0.0088 - val_loss: 6.6546e-04 - 47ms/epoch - 47ms/step\n",
            "Epoch 50/100\n",
            "1/1 - 0s - loss: 0.0108 - val_loss: 4.2099e-04 - 47ms/epoch - 47ms/step\n",
            "Epoch 51/100\n",
            "1/1 - 0s - loss: 0.0101 - val_loss: 5.5154e-04 - 47ms/epoch - 47ms/step\n",
            "Epoch 52/100\n",
            "1/1 - 0s - loss: 0.0081 - val_loss: 9.3380e-04 - 64ms/epoch - 64ms/step\n",
            "Epoch 53/100\n",
            "1/1 - 0s - loss: 0.0094 - val_loss: 0.0014 - 50ms/epoch - 50ms/step\n",
            "Epoch 54/100\n",
            "1/1 - 0s - loss: 0.0100 - val_loss: 0.0017 - 47ms/epoch - 47ms/step\n",
            "Epoch 55/100\n",
            "1/1 - 0s - loss: 0.0081 - val_loss: 0.0017 - 44ms/epoch - 44ms/step\n",
            "Epoch 56/100\n",
            "1/1 - 0s - loss: 0.0107 - val_loss: 0.0015 - 50ms/epoch - 50ms/step\n",
            "Epoch 57/100\n",
            "1/1 - 0s - loss: 0.0092 - val_loss: 0.0012 - 65ms/epoch - 65ms/step\n",
            "Epoch 58/100\n",
            "1/1 - 0s - loss: 0.0111 - val_loss: 9.0638e-04 - 72ms/epoch - 72ms/step\n",
            "Epoch 59/100\n",
            "1/1 - 0s - loss: 0.0094 - val_loss: 6.0214e-04 - 45ms/epoch - 45ms/step\n",
            "Epoch 60/100\n",
            "1/1 - 0s - loss: 0.0099 - val_loss: 4.6271e-04 - 61ms/epoch - 61ms/step\n",
            "Epoch 61/100\n",
            "1/1 - 0s - loss: 0.0078 - val_loss: 4.1714e-04 - 46ms/epoch - 46ms/step\n",
            "Epoch 62/100\n",
            "1/1 - 0s - loss: 0.0096 - val_loss: 4.2066e-04 - 48ms/epoch - 48ms/step\n",
            "Epoch 63/100\n",
            "1/1 - 0s - loss: 0.0084 - val_loss: 4.2970e-04 - 61ms/epoch - 61ms/step\n",
            "Epoch 64/100\n",
            "1/1 - 0s - loss: 0.0093 - val_loss: 4.1971e-04 - 70ms/epoch - 70ms/step\n",
            "Epoch 65/100\n",
            "1/1 - 0s - loss: 0.0068 - val_loss: 4.1185e-04 - 48ms/epoch - 48ms/step\n",
            "Epoch 66/100\n",
            "1/1 - 0s - loss: 0.0089 - val_loss: 4.3060e-04 - 47ms/epoch - 47ms/step\n",
            "Epoch 67/100\n",
            "1/1 - 0s - loss: 0.0096 - val_loss: 5.0830e-04 - 50ms/epoch - 50ms/step\n",
            "Epoch 68/100\n",
            "1/1 - 0s - loss: 0.0079 - val_loss: 6.2070e-04 - 50ms/epoch - 50ms/step\n",
            "Epoch 69/100\n",
            "1/1 - 0s - loss: 0.0097 - val_loss: 7.1391e-04 - 48ms/epoch - 48ms/step\n",
            "Epoch 70/100\n",
            "1/1 - 0s - loss: 0.0083 - val_loss: 8.1270e-04 - 46ms/epoch - 46ms/step\n",
            "Epoch 71/100\n",
            "1/1 - 0s - loss: 0.0079 - val_loss: 9.2841e-04 - 47ms/epoch - 47ms/step\n",
            "Epoch 72/100\n",
            "1/1 - 0s - loss: 0.0086 - val_loss: 0.0011 - 46ms/epoch - 46ms/step\n",
            "Epoch 73/100\n",
            "1/1 - 0s - loss: 0.0085 - val_loss: 0.0014 - 67ms/epoch - 67ms/step\n",
            "Epoch 74/100\n",
            "1/1 - 0s - loss: 0.0092 - val_loss: 0.0016 - 53ms/epoch - 53ms/step\n",
            "Epoch 75/100\n",
            "1/1 - 0s - loss: 0.0085 - val_loss: 0.0017 - 53ms/epoch - 53ms/step\n",
            "Epoch 76/100\n",
            "1/1 - 0s - loss: 0.0078 - val_loss: 0.0015 - 48ms/epoch - 48ms/step\n",
            "Epoch 77/100\n",
            "1/1 - 0s - loss: 0.0096 - val_loss: 0.0012 - 70ms/epoch - 70ms/step\n",
            "Epoch 78/100\n",
            "1/1 - 0s - loss: 0.0083 - val_loss: 9.6411e-04 - 69ms/epoch - 69ms/step\n",
            "Epoch 79/100\n",
            "1/1 - 0s - loss: 0.0096 - val_loss: 6.3700e-04 - 52ms/epoch - 52ms/step\n",
            "Epoch 80/100\n",
            "1/1 - 0s - loss: 0.0081 - val_loss: 5.0276e-04 - 65ms/epoch - 65ms/step\n",
            "Epoch 81/100\n",
            "1/1 - 0s - loss: 0.0078 - val_loss: 4.2841e-04 - 57ms/epoch - 57ms/step\n",
            "Epoch 82/100\n",
            "1/1 - 0s - loss: 0.0085 - val_loss: 4.1163e-04 - 56ms/epoch - 56ms/step\n",
            "Epoch 83/100\n",
            "1/1 - 0s - loss: 0.0081 - val_loss: 4.1673e-04 - 54ms/epoch - 54ms/step\n",
            "Epoch 84/100\n",
            "1/1 - 0s - loss: 0.0061 - val_loss: 4.4684e-04 - 67ms/epoch - 67ms/step\n",
            "Epoch 85/100\n",
            "1/1 - 0s - loss: 0.0091 - val_loss: 4.8133e-04 - 50ms/epoch - 50ms/step\n",
            "Epoch 86/100\n",
            "1/1 - 0s - loss: 0.0078 - val_loss: 6.0608e-04 - 49ms/epoch - 49ms/step\n",
            "Epoch 87/100\n",
            "1/1 - 0s - loss: 0.0074 - val_loss: 8.3172e-04 - 63ms/epoch - 63ms/step\n",
            "Epoch 88/100\n",
            "1/1 - 0s - loss: 0.0076 - val_loss: 9.9592e-04 - 46ms/epoch - 46ms/step\n",
            "Epoch 89/100\n",
            "1/1 - 0s - loss: 0.0090 - val_loss: 9.8859e-04 - 49ms/epoch - 49ms/step\n",
            "Epoch 90/100\n",
            "1/1 - 0s - loss: 0.0078 - val_loss: 9.9321e-04 - 51ms/epoch - 51ms/step\n",
            "Epoch 91/100\n",
            "1/1 - 0s - loss: 0.0089 - val_loss: 9.8881e-04 - 54ms/epoch - 54ms/step\n",
            "Epoch 92/100\n",
            "1/1 - 0s - loss: 0.0080 - val_loss: 9.6239e-04 - 46ms/epoch - 46ms/step\n",
            "Epoch 93/100\n",
            "1/1 - 0s - loss: 0.0082 - val_loss: 9.1815e-04 - 46ms/epoch - 46ms/step\n",
            "Epoch 94/100\n",
            "1/1 - 0s - loss: 0.0084 - val_loss: 9.0894e-04 - 53ms/epoch - 53ms/step\n",
            "Epoch 95/100\n",
            "1/1 - 0s - loss: 0.0085 - val_loss: 8.4165e-04 - 53ms/epoch - 53ms/step\n",
            "Epoch 96/100\n",
            "1/1 - 0s - loss: 0.0077 - val_loss: 7.9804e-04 - 47ms/epoch - 47ms/step\n",
            "Epoch 97/100\n",
            "1/1 - 0s - loss: 0.0087 - val_loss: 6.6694e-04 - 43ms/epoch - 43ms/step\n",
            "Epoch 98/100\n",
            "1/1 - 0s - loss: 0.0084 - val_loss: 4.8869e-04 - 52ms/epoch - 52ms/step\n",
            "Epoch 99/100\n",
            "1/1 - 0s - loss: 0.0067 - val_loss: 4.2456e-04 - 43ms/epoch - 43ms/step\n",
            "Epoch 100/100\n",
            "1/1 - 0s - loss: 0.0078 - val_loss: 4.1548e-04 - 41ms/epoch - 41ms/step\n"
          ]
        },
        {
          "output_type": "stream",
          "name": "stderr",
          "text": [
            "/usr/local/lib/python3.10/dist-packages/keras/src/engine/training.py:3103: UserWarning: You are saving your model as an HDF5 file via `model.save()`. This file format is considered legacy. We recommend using instead the native Keras format, e.g. `model.save('my_model.keras')`.\n",
            "  saving_api.save_model(\n"
          ]
        },
        {
          "output_type": "display_data",
          "data": {
            "text/plain": [
              "<Figure size 640x480 with 1 Axes>"
            ],
            "image/png": "[encoded data removed]"
          },
          "metadata": {}
        },
        {
          "output_type": "stream",
          "name": "stdout",
          "text": [
            "9/9 [==============================] - 1s 5ms/step\n",
            "1/1 [==============================] - 0s 43ms/step\n"
          ]
        },
        {
          "output_type": "display_data",
          "data": {
            "text/plain": [
              "<Figure size 640x480 with 1 Axes>"
            ],
            "image/png": "[encoded data removed]"
          },
          "metadata": {}
        },
        {
          "output_type": "stream",
          "name": "stdout",
          "text": [
            "Test RMSE normal : 142.595\n",
            "Test MSE normal : 20333.378\n"
          ]
        }
      ]
    },
    {
      "cell_type": "code",
      "source": [
        "  # @title Hasil model LSTM\n",
        "  model_lstm = build_model_lstm(train_X)\n",
        "  history = model_lstm.fit(train_X, train_y, epochs=100, batch_size=len(train_X), validation_data=(test_X, test_y),\n",
        "                      verbose=2, shuffle=False)\n",
        "  model_lstm.save(\"rnn_model_lstm.h5\")\n",
        "  # plot history\n",
        "  plt.plot(history.history['loss'], label='train')\n",
        "  plt.legend()\n",
        "  plt.show()\n",
        "  # plot model_lstm and train data\n",
        "  y_train = model_lstm.predict(train_X)\n",
        "  inv_ymodel_lstm = inverse_normdata(scaler, train_X, y_train)\n",
        "  df_inv_ymodel_lstm = pd.DataFrame(inv_ymodel_lstm, index=train_y.index)\n",
        "  # plot test data\n",
        "  y_test = model_lstm.predict(test_X)\n",
        "  inv_y_test = inverse_normdata(scaler, test_X, y_test)\n",
        "  df_inv_ytest = pd.DataFrame(inv_y_test, index=test_y.index)\n",
        "  plt.plot(df, color='orange', label='Actual')\n",
        "  plt.plot(df_inv_ymodel_lstm, color='green', label='Trained')\n",
        "  plt.plot(df_inv_ytest, color='red', label='Predicted')\n",
        "  plt.legend()\n",
        "  plt.show()\n",
        "  # inverse data dari 0-1 menjadi range awal\n",
        "  inv_test_y = inverse_normdata(scaler, test_X, test_y)\n",
        "  rmse_normal = sqrt(mean_squared_error(inv_test_y, inv_y_test))\n",
        "  print('Test RMSE normal : %.3f' % rmse_normal)\n",
        "  print('Test MSE normal : %.3f' % mean_squared_error(inv_test_y, inv_y_test))"
      ],
      "metadata": {
        "colab": {
          "base_uri": "https://localhost:8080/",
          "height": 1000
        },
        "id": "djwlQF6LDz0q",
        "outputId": "392a7bd8-a694-41b4-ee3e-fda7778f5195"
      },
      "execution_count": null,
      "outputs": [
        {
          "output_type": "stream",
          "name": "stdout",
          "text": [
            "Epoch 1/100\n",
            "1/1 - 10s - loss: 0.2963 - val_loss: 0.8863 - 10s/epoch - 10s/step\n",
            "Epoch 2/100\n",
            "1/1 - 0s - loss: 0.2917 - val_loss: 0.8758 - 80ms/epoch - 80ms/step\n",
            "Epoch 3/100\n",
            "1/1 - 0s - loss: 0.2871 - val_loss: 0.8648 - 57ms/epoch - 57ms/step\n",
            "Epoch 4/100\n",
            "1/1 - 0s - loss: 0.2824 - val_loss: 0.8534 - 61ms/epoch - 61ms/step\n",
            "Epoch 5/100\n",
            "1/1 - 0s - loss: 0.2774 - val_loss: 0.8412 - 60ms/epoch - 60ms/step\n",
            "Epoch 6/100\n",
            "1/1 - 0s - loss: 0.2721 - val_loss: 0.8284 - 66ms/epoch - 66ms/step\n",
            "Epoch 7/100\n",
            "1/1 - 0s - loss: 0.2667 - val_loss: 0.8147 - 59ms/epoch - 59ms/step\n",
            "Epoch 8/100\n",
            "1/1 - 0s - loss: 0.2606 - val_loss: 0.8001 - 60ms/epoch - 60ms/step\n",
            "Epoch 9/100\n",
            "1/1 - 0s - loss: 0.2553 - val_loss: 0.7845 - 76ms/epoch - 76ms/step\n",
            "Epoch 10/100\n",
            "1/1 - 0s - loss: 0.2488 - val_loss: 0.7677 - 95ms/epoch - 95ms/step\n",
            "Epoch 11/100\n",
            "1/1 - 0s - loss: 0.2417 - val_loss: 0.7497 - 85ms/epoch - 85ms/step\n",
            "Epoch 12/100\n",
            "1/1 - 0s - loss: 0.2357 - val_loss: 0.7304 - 113ms/epoch - 113ms/step\n",
            "Epoch 13/100\n",
            "1/1 - 0s - loss: 0.2278 - val_loss: 0.7097 - 114ms/epoch - 114ms/step\n",
            "Epoch 14/100\n",
            "1/1 - 0s - loss: 0.2188 - val_loss: 0.6874 - 103ms/epoch - 103ms/step\n",
            "Epoch 15/100\n",
            "1/1 - 0s - loss: 0.2112 - val_loss: 0.6635 - 103ms/epoch - 103ms/step\n",
            "Epoch 16/100\n",
            "1/1 - 0s - loss: 0.2021 - val_loss: 0.6380 - 104ms/epoch - 104ms/step\n",
            "Epoch 17/100\n",
            "1/1 - 0s - loss: 0.1922 - val_loss: 0.6106 - 100ms/epoch - 100ms/step\n",
            "Epoch 18/100\n",
            "1/1 - 0s - loss: 0.1815 - val_loss: 0.5814 - 106ms/epoch - 106ms/step\n",
            "Epoch 19/100\n",
            "1/1 - 0s - loss: 0.1708 - val_loss: 0.5503 - 122ms/epoch - 122ms/step\n",
            "Epoch 20/100\n",
            "1/1 - 0s - loss: 0.1585 - val_loss: 0.5173 - 89ms/epoch - 89ms/step\n",
            "Epoch 21/100\n",
            "1/1 - 0s - loss: 0.1489 - val_loss: 0.4824 - 101ms/epoch - 101ms/step\n",
            "Epoch 22/100\n",
            "1/1 - 0s - loss: 0.1372 - val_loss: 0.4456 - 82ms/epoch - 82ms/step\n",
            "Epoch 23/100\n",
            "1/1 - 0s - loss: 0.1260 - val_loss: 0.4072 - 113ms/epoch - 113ms/step\n",
            "Epoch 24/100\n",
            "1/1 - 0s - loss: 0.1146 - val_loss: 0.3673 - 92ms/epoch - 92ms/step\n",
            "Epoch 25/100\n",
            "1/1 - 0s - loss: 0.1025 - val_loss: 0.3261 - 91ms/epoch - 91ms/step\n",
            "Epoch 26/100\n",
            "1/1 - 0s - loss: 0.0900 - val_loss: 0.2842 - 104ms/epoch - 104ms/step\n",
            "Epoch 27/100\n",
            "1/1 - 0s - loss: 0.0786 - val_loss: 0.2421 - 88ms/epoch - 88ms/step\n",
            "Epoch 28/100\n",
            "1/1 - 0s - loss: 0.0684 - val_loss: 0.2005 - 93ms/epoch - 93ms/step\n",
            "Epoch 29/100\n",
            "1/1 - 0s - loss: 0.0565 - val_loss: 0.1604 - 106ms/epoch - 106ms/step\n",
            "Epoch 30/100\n",
            "1/1 - 0s - loss: 0.0494 - val_loss: 0.1228 - 96ms/epoch - 96ms/step\n",
            "Epoch 31/100\n",
            "1/1 - 0s - loss: 0.0441 - val_loss: 0.0891 - 89ms/epoch - 89ms/step\n",
            "Epoch 32/100\n",
            "1/1 - 0s - loss: 0.0415 - val_loss: 0.0604 - 106ms/epoch - 106ms/step\n",
            "Epoch 33/100\n",
            "1/1 - 0s - loss: 0.0417 - val_loss: 0.0380 - 93ms/epoch - 93ms/step\n",
            "Epoch 34/100\n",
            "1/1 - 0s - loss: 0.0403 - val_loss: 0.0222 - 82ms/epoch - 82ms/step\n",
            "Epoch 35/100\n",
            "1/1 - 0s - loss: 0.0459 - val_loss: 0.0125 - 60ms/epoch - 60ms/step\n",
            "Epoch 36/100\n",
            "1/1 - 0s - loss: 0.0473 - val_loss: 0.0073 - 65ms/epoch - 65ms/step\n",
            "Epoch 37/100\n",
            "1/1 - 0s - loss: 0.0509 - val_loss: 0.0051 - 79ms/epoch - 79ms/step\n",
            "Epoch 38/100\n",
            "1/1 - 0s - loss: 0.0519 - val_loss: 0.0046 - 79ms/epoch - 79ms/step\n",
            "Epoch 39/100\n",
            "1/1 - 0s - loss: 0.0530 - val_loss: 0.0054 - 60ms/epoch - 60ms/step\n",
            "Epoch 40/100\n",
            "1/1 - 0s - loss: 0.0511 - val_loss: 0.0077 - 79ms/epoch - 79ms/step\n",
            "Epoch 41/100\n",
            "1/1 - 0s - loss: 0.0477 - val_loss: 0.0116 - 62ms/epoch - 62ms/step\n",
            "Epoch 42/100\n",
            "1/1 - 0s - loss: 0.0442 - val_loss: 0.0173 - 83ms/epoch - 83ms/step\n",
            "Epoch 43/100\n",
            "1/1 - 0s - loss: 0.0400 - val_loss: 0.0247 - 74ms/epoch - 74ms/step\n",
            "Epoch 44/100\n",
            "1/1 - 0s - loss: 0.0369 - val_loss: 0.0333 - 58ms/epoch - 58ms/step\n",
            "Epoch 45/100\n",
            "1/1 - 0s - loss: 0.0353 - val_loss: 0.0428 - 75ms/epoch - 75ms/step\n",
            "Epoch 46/100\n",
            "1/1 - 0s - loss: 0.0335 - val_loss: 0.0523 - 59ms/epoch - 59ms/step\n",
            "Epoch 47/100\n",
            "1/1 - 0s - loss: 0.0345 - val_loss: 0.0613 - 62ms/epoch - 62ms/step\n",
            "Epoch 48/100\n",
            "1/1 - 0s - loss: 0.0332 - val_loss: 0.0693 - 69ms/epoch - 69ms/step\n",
            "Epoch 49/100\n",
            "1/1 - 0s - loss: 0.0330 - val_loss: 0.0756 - 76ms/epoch - 76ms/step\n",
            "Epoch 50/100\n",
            "1/1 - 0s - loss: 0.0342 - val_loss: 0.0800 - 62ms/epoch - 62ms/step\n",
            "Epoch 51/100\n",
            "1/1 - 0s - loss: 0.0331 - val_loss: 0.0825 - 59ms/epoch - 59ms/step\n",
            "Epoch 52/100\n",
            "1/1 - 0s - loss: 0.0314 - val_loss: 0.0830 - 64ms/epoch - 64ms/step\n",
            "Epoch 53/100\n",
            "1/1 - 0s - loss: 0.0318 - val_loss: 0.0817 - 59ms/epoch - 59ms/step\n",
            "Epoch 54/100\n",
            "1/1 - 0s - loss: 0.0321 - val_loss: 0.0784 - 68ms/epoch - 68ms/step\n",
            "Epoch 55/100\n",
            "1/1 - 0s - loss: 0.0323 - val_loss: 0.0737 - 73ms/epoch - 73ms/step\n",
            "Epoch 56/100\n",
            "1/1 - 0s - loss: 0.0310 - val_loss: 0.0677 - 81ms/epoch - 81ms/step\n",
            "Epoch 57/100\n",
            "1/1 - 0s - loss: 0.0302 - val_loss: 0.0607 - 79ms/epoch - 79ms/step\n",
            "Epoch 58/100\n",
            "1/1 - 0s - loss: 0.0291 - val_loss: 0.0532 - 78ms/epoch - 78ms/step\n",
            "Epoch 59/100\n",
            "1/1 - 0s - loss: 0.0259 - val_loss: 0.0455 - 67ms/epoch - 67ms/step\n",
            "Epoch 60/100\n",
            "1/1 - 0s - loss: 0.0248 - val_loss: 0.0380 - 67ms/epoch - 67ms/step\n",
            "Epoch 61/100\n",
            "1/1 - 0s - loss: 0.0233 - val_loss: 0.0309 - 82ms/epoch - 82ms/step\n",
            "Epoch 62/100\n",
            "1/1 - 0s - loss: 0.0217 - val_loss: 0.0246 - 86ms/epoch - 86ms/step\n",
            "Epoch 63/100\n",
            "1/1 - 0s - loss: 0.0211 - val_loss: 0.0192 - 64ms/epoch - 64ms/step\n",
            "Epoch 64/100\n",
            "1/1 - 0s - loss: 0.0219 - val_loss: 0.0149 - 76ms/epoch - 76ms/step\n",
            "Epoch 65/100\n",
            "1/1 - 0s - loss: 0.0202 - val_loss: 0.0114 - 80ms/epoch - 80ms/step\n",
            "Epoch 66/100\n",
            "1/1 - 0s - loss: 0.0197 - val_loss: 0.0090 - 66ms/epoch - 66ms/step\n",
            "Epoch 67/100\n",
            "1/1 - 0s - loss: 0.0191 - val_loss: 0.0073 - 58ms/epoch - 58ms/step\n",
            "Epoch 68/100\n",
            "1/1 - 0s - loss: 0.0194 - val_loss: 0.0062 - 74ms/epoch - 74ms/step\n",
            "Epoch 69/100\n",
            "1/1 - 0s - loss: 0.0186 - val_loss: 0.0056 - 78ms/epoch - 78ms/step\n",
            "Epoch 70/100\n",
            "1/1 - 0s - loss: 0.0174 - val_loss: 0.0054 - 87ms/epoch - 87ms/step\n",
            "Epoch 71/100\n",
            "1/1 - 0s - loss: 0.0182 - val_loss: 0.0057 - 65ms/epoch - 65ms/step\n",
            "Epoch 72/100\n",
            "1/1 - 0s - loss: 0.0165 - val_loss: 0.0061 - 75ms/epoch - 75ms/step\n",
            "Epoch 73/100\n",
            "1/1 - 0s - loss: 0.0148 - val_loss: 0.0067 - 64ms/epoch - 64ms/step\n",
            "Epoch 74/100\n",
            "1/1 - 0s - loss: 0.0137 - val_loss: 0.0074 - 63ms/epoch - 63ms/step\n",
            "Epoch 75/100\n",
            "1/1 - 0s - loss: 0.0138 - val_loss: 0.0081 - 60ms/epoch - 60ms/step\n",
            "Epoch 76/100\n",
            "1/1 - 0s - loss: 0.0137 - val_loss: 0.0087 - 66ms/epoch - 66ms/step\n",
            "Epoch 77/100\n",
            "1/1 - 0s - loss: 0.0135 - val_loss: 0.0090 - 75ms/epoch - 75ms/step\n",
            "Epoch 78/100\n",
            "1/1 - 0s - loss: 0.0124 - val_loss: 0.0092 - 68ms/epoch - 68ms/step\n",
            "Epoch 79/100\n",
            "1/1 - 0s - loss: 0.0121 - val_loss: 0.0092 - 61ms/epoch - 61ms/step\n",
            "Epoch 80/100\n",
            "1/1 - 0s - loss: 0.0121 - val_loss: 0.0088 - 62ms/epoch - 62ms/step\n",
            "Epoch 81/100\n",
            "1/1 - 0s - loss: 0.0104 - val_loss: 0.0082 - 63ms/epoch - 63ms/step\n",
            "Epoch 82/100\n",
            "1/1 - 0s - loss: 0.0100 - val_loss: 0.0075 - 81ms/epoch - 81ms/step\n",
            "Epoch 83/100\n",
            "1/1 - 0s - loss: 0.0104 - val_loss: 0.0066 - 60ms/epoch - 60ms/step\n",
            "Epoch 84/100\n",
            "1/1 - 0s - loss: 0.0086 - val_loss: 0.0055 - 81ms/epoch - 81ms/step\n",
            "Epoch 85/100\n",
            "1/1 - 0s - loss: 0.0093 - val_loss: 0.0044 - 62ms/epoch - 62ms/step\n",
            "Epoch 86/100\n",
            "1/1 - 0s - loss: 0.0094 - val_loss: 0.0033 - 62ms/epoch - 62ms/step\n",
            "Epoch 87/100\n",
            "1/1 - 0s - loss: 0.0083 - val_loss: 0.0024 - 62ms/epoch - 62ms/step\n",
            "Epoch 88/100\n",
            "1/1 - 0s - loss: 0.0076 - val_loss: 0.0017 - 64ms/epoch - 64ms/step\n",
            "Epoch 89/100\n",
            "1/1 - 0s - loss: 0.0073 - val_loss: 0.0011 - 79ms/epoch - 79ms/step\n",
            "Epoch 90/100\n",
            "1/1 - 0s - loss: 0.0080 - val_loss: 7.9240e-04 - 62ms/epoch - 62ms/step\n",
            "Epoch 91/100\n",
            "1/1 - 0s - loss: 0.0068 - val_loss: 6.2754e-04 - 58ms/epoch - 58ms/step\n",
            "Epoch 92/100\n",
            "1/1 - 0s - loss: 0.0068 - val_loss: 5.9105e-04 - 61ms/epoch - 61ms/step\n",
            "Epoch 93/100\n",
            "1/1 - 0s - loss: 0.0066 - val_loss: 6.1282e-04 - 78ms/epoch - 78ms/step\n",
            "Epoch 94/100\n",
            "1/1 - 0s - loss: 0.0074 - val_loss: 6.6568e-04 - 74ms/epoch - 74ms/step\n",
            "Epoch 95/100\n",
            "1/1 - 0s - loss: 0.0061 - val_loss: 7.0657e-04 - 75ms/epoch - 75ms/step\n",
            "Epoch 96/100\n",
            "1/1 - 0s - loss: 0.0063 - val_loss: 6.9020e-04 - 71ms/epoch - 71ms/step\n",
            "Epoch 97/100\n",
            "1/1 - 0s - loss: 0.0071 - val_loss: 6.6538e-04 - 62ms/epoch - 62ms/step\n",
            "Epoch 98/100\n",
            "1/1 - 0s - loss: 0.0062 - val_loss: 6.5945e-04 - 67ms/epoch - 67ms/step\n",
            "Epoch 99/100\n",
            "1/1 - 0s - loss: 0.0058 - val_loss: 6.6379e-04 - 63ms/epoch - 63ms/step\n",
            "Epoch 100/100\n",
            "1/1 - 0s - loss: 0.0051 - val_loss: 6.8098e-04 - 61ms/epoch - 61ms/step\n"
          ]
        },
        {
          "output_type": "stream",
          "name": "stderr",
          "text": [
            "/usr/local/lib/python3.10/dist-packages/keras/src/engine/training.py:3103: UserWarning: You are saving your model as an HDF5 file via `model.save()`. This file format is considered legacy. We recommend using instead the native Keras format, e.g. `model.save('my_model.keras')`.\n",
            "  saving_api.save_model(\n"
          ]
        },
        {
          "output_type": "display_data",
          "data": {
            "text/plain": [
              "<Figure size 640x480 with 1 Axes>"
            ],
            "image/png": "[encoded data removed]"
          },
          "metadata": {}
        },
        {
          "output_type": "stream",
          "name": "stdout",
          "text": [
            "9/9 [==============================] - 1s 7ms/step\n",
            "1/1 [==============================] - 0s 26ms/step\n"
          ]
        },
        {
          "output_type": "display_data",
          "data": {
            "text/plain": [
              "<Figure size 640x480 with 1 Axes>"
            ],
            "image/png": "[encoded data removed]"
          },
          "metadata": {}
        },
        {
          "output_type": "stream",
          "name": "stdout",
          "text": [
            "Test RMSE normal : 182.555\n",
            "Test MSE normal : 33326.304\n"
          ]
        }
      ]
    }
  ],
  "metadata": {
    "colab": {
      "provenance": []
    },
    "kernelspec": {
      "display_name": "Python 3",
      "name": "python3"
    },
    "language_info": {
      "name": "python"
    }
  },
  "nbformat": 4,
  "nbformat_minor": 0
}